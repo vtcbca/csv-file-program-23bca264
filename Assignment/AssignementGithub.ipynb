    from csv import reader
    "csv_read=reader(f)"
 "for row in csv_read:\n",
    "    print(row)"
      "['sid', 'sname', 'WD', 'Python', 'OOPS', 'IKS', 'STAT']\n",
      "['1', 'Rohit', '80', '64', '85', '92', '70']\n",
      "['2', 'Shreyanka', '75', '63', '87', '84', '52']\n",
      "['3', 'Virat', '84', '75', '75', '52', '63']\n",
      "['4', 'Smriti', '75', '65', '78', '96', '87']\n",
      "['5', 'Jassi', '45', '86', '78', '94', '75']\n",
      "['6', 'Harmanpreet', '65', '85', '75', '65', '89']\n",
      "['7', 'Ricky', '68', '65', '45', '87', '65']\n",
      "['8', 'Perry', '75', '65', '78', '65', '50']\n",
      "['9', 'Chris', '45', '65', '98', '75', '60']\n",
      "['10', 'Allen', '60', '70', '90', '85', '75']\n"
   
    "f.close()"
    "f=open(\"D:/23BCA269/sqlite3/result.csv\",\"r\")"
    "csv_read=reader(f)"
    "for r in csv_read:\n",
    "    total=r[2]+r[3]+r[4]+r[5]+r[6]\n",
    "    per=total/5\n",
    "    print(\"{}\\t{}\\t{}\\t{}\\t{}\\t{}\\t{}\\t{}\\t{}\\t\".format(r[0],r[1],r[2],r[3],r[4],r[5],r[6],total,per))"
  
}
