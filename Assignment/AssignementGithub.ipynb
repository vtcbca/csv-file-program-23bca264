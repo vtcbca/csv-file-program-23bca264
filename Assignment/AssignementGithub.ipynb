{
 "cells": [
  {
   "cell_type": "code",
   "execution_count": 1,
   "id": "dfa8394e-b9b9-4763-a6b2-c4e103b80e3b",
   "metadata": {},
   "outputs": [],
   "source": [
    "from csv import reader\n"
   ]
  },
  {
   "cell_type": "code",
   "execution_count": 6,
   "id": "0b579e5d-deb4-471c-a9b1-3481bb416f57",
   "metadata": {},
   "outputs": [],
   "source": [
    "f=open(\"D:/23BCA269/sqlite3/result.csv\",\"r\")"
   ]
  },
  {
   "cell_type": "code",
   "execution_count": 7,
   "id": "04518c6b-63d7-471a-9edc-e756d998e5ac",
   "metadata": {},
   "outputs": [],
   "source": [
    "csv_read=reader(f)"
   ]
  },
  {
   "cell_type": "code",
   "execution_count": 8,
   "id": "17f8c712-f6e0-4d6d-8ae3-a875a0cb2e3b",
   "metadata": {},
   "outputs": [
    {
     "name": "stdout",
     "output_type": "stream",
     "text": [
      "['sid', 'sname', 'WD', 'Python', 'OOPS', 'IKS', 'STAT']\n",
      "['1', 'Rohit', '80', '64', '85', '92', '70']\n",
      "['2', 'Shreyanka', '75', '63', '87', '84', '52']\n",
      "['3', 'Virat', '84', '75', '75', '52', '63']\n",
      "['4', 'Smriti', '75', '65', '78', '96', '87']\n",
      "['5', 'Jassi', '45', '86', '78', '94', '75']\n",
      "['6', 'Harmanpreet', '65', '85', '75', '65', '89']\n",
      "['7', 'Ricky', '68', '65', '45', '87', '65']\n",
      "['8', 'Perry', '75', '65', '78', '65', '50']\n",
      "['9', 'Chris', '45', '65', '98', '75', '60']\n",
      "['10', 'Allen', '60', '70', '90', '85', '75']\n"
     ]
    }
   ],
   "source": [
    "for row in csv_read:\n",
    "    print(row)"
   ]
  },
  {
   "cell_type": "code",
   "execution_count": 10,
   "id": "55921cb0-b211-490d-a603-006ce1ca7f98",
   "metadata": {},
   "outputs": [],
   "source": [
    "f.close()"
   ]
  },
  {
   "cell_type": "markdown",
   "id": "99c9df8f-dba9-42fc-a666-a4739d74f24b",
   "metadata": {},
   "source": [
    "##  calculate Total Marks, percentage and write it into marksheet.csv file using reader and writer class."
   ]
  },
  {
   "cell_type": "code",
   "execution_count": 11,
   "id": "adff1a39-ab54-4f73-92df-2b2bd314404e",
   "metadata": {},
   "outputs": [],
   "source": [
    "f=open(\"D:/23BCA269/sqlite3/result.csv\",\"r\")"
   ]
  },
  {
   "cell_type": "code",
   "execution_count": 16,
   "id": "dd290643-3522-41db-a8b4-d648fc0542b0",
   "metadata": {},
   "outputs": [],
   "source": [
    "csv_read=reader(f)"
   ]
  },
  {
   "cell_type": "code",
   "execution_count": 19,
   "id": "ffdd88f8-3209-4ff3-b371-1ef78f9b23e2",
   "metadata": {},
   "outputs": [
    {
     "ename": "TypeError",
     "evalue": "unsupported operand type(s) for /: 'str' and 'int'",
     "output_type": "error",
     "traceback": [
      "\u001b[1;31m---------------------------------------------------------------------------\u001b[0m",
      "\u001b[1;31mTypeError\u001b[0m                                 Traceback (most recent call last)",
      "Cell \u001b[1;32mIn[19], line 3\u001b[0m\n\u001b[0;32m      1\u001b[0m \u001b[38;5;28;01mfor\u001b[39;00m r \u001b[38;5;129;01min\u001b[39;00m csv_read:\n\u001b[0;32m      2\u001b[0m     total\u001b[38;5;241m=\u001b[39mr[\u001b[38;5;241m2\u001b[39m]\u001b[38;5;241m+\u001b[39mr[\u001b[38;5;241m3\u001b[39m]\u001b[38;5;241m+\u001b[39mr[\u001b[38;5;241m4\u001b[39m]\u001b[38;5;241m+\u001b[39mr[\u001b[38;5;241m5\u001b[39m]\u001b[38;5;241m+\u001b[39mr[\u001b[38;5;241m6\u001b[39m]\n\u001b[1;32m----> 3\u001b[0m     per\u001b[38;5;241m=\u001b[39m\u001b[43mtotal\u001b[49m\u001b[38;5;241;43m/\u001b[39;49m\u001b[38;5;241;43m5\u001b[39;49m\n\u001b[0;32m      4\u001b[0m     \u001b[38;5;28mprint\u001b[39m(\u001b[38;5;124m\"\u001b[39m\u001b[38;5;132;01m{}\u001b[39;00m\u001b[38;5;130;01m\\t\u001b[39;00m\u001b[38;5;132;01m{}\u001b[39;00m\u001b[38;5;130;01m\\t\u001b[39;00m\u001b[38;5;132;01m{}\u001b[39;00m\u001b[38;5;130;01m\\t\u001b[39;00m\u001b[38;5;132;01m{}\u001b[39;00m\u001b[38;5;130;01m\\t\u001b[39;00m\u001b[38;5;132;01m{}\u001b[39;00m\u001b[38;5;130;01m\\t\u001b[39;00m\u001b[38;5;132;01m{}\u001b[39;00m\u001b[38;5;130;01m\\t\u001b[39;00m\u001b[38;5;132;01m{}\u001b[39;00m\u001b[38;5;130;01m\\t\u001b[39;00m\u001b[38;5;132;01m{}\u001b[39;00m\u001b[38;5;130;01m\\t\u001b[39;00m\u001b[38;5;132;01m{}\u001b[39;00m\u001b[38;5;130;01m\\t\u001b[39;00m\u001b[38;5;124m\"\u001b[39m\u001b[38;5;241m.\u001b[39mformat(r[\u001b[38;5;241m0\u001b[39m],r[\u001b[38;5;241m1\u001b[39m],r[\u001b[38;5;241m2\u001b[39m],r[\u001b[38;5;241m3\u001b[39m],r[\u001b[38;5;241m4\u001b[39m],r[\u001b[38;5;241m5\u001b[39m],r[\u001b[38;5;241m6\u001b[39m],total,per))\n",
      "\u001b[1;31mTypeError\u001b[0m: unsupported operand type(s) for /: 'str' and 'int'"
     ]
    }
   ],
   "source": [
    "for r in csv_read:\n",
    "    total=r[2]+r[3]+r[4]+r[5]+r[6]\n",
    "    per=total/5\n",
    "    print(\"{}\\t{}\\t{}\\t{}\\t{}\\t{}\\t{}\\t{}\\t{}\\t\".format(r[0],r[1],r[2],r[3],r[4],r[5],r[6],total,per))"
   ]
  },
  {
   "cell_type": "code",
   "execution_count": null,
   "id": "cb3e5616-ab98-493e-a2c9-d1acd37b82d7",
   "metadata": {},
   "outputs": [],
   "source": []
  }
 ],
 "metadata": {
  "kernelspec": {
   "display_name": "Python 3 (ipykernel)",
   "language": "python",
   "name": "python3"
  },
  "language_info": {
   "codemirror_mode": {
    "name": "ipython",
    "version": 3
   },
   "file_extension": ".py",
   "mimetype": "text/x-python",
   "name": "python",
   "nbconvert_exporter": "python",
   "pygments_lexer": "ipython3",
   "version": "3.12.4"
  }
 },
 "nbformat": 4,
 "nbformat_minor": 5
}
